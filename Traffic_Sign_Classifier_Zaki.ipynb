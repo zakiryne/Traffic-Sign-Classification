{
 "cells": [
  {
   "cell_type": "markdown",
   "metadata": {},
   "source": [
    "# Self-Driving Car Engineer Nanodegree\n",
    "\n",
    "## Deep Learning\n",
    "\n",
    "## Project: Build a Traffic Sign Recognition Classifier\n",
    "\n",
    "In this notebook, a template is provided for you to implement your functionality in stages, which is required to successfully complete this project. If additional code is required that cannot be included in the notebook, be sure that the Python code is successfully imported and included in your submission if necessary. \n",
    "\n",
    "> **Note**: Once you have completed all of the code implementations, you need to finalize your work by exporting the iPython Notebook as an HTML document. Before exporting the notebook to html, all of the code cells need to have been run so that reviewers can see the final implementation and output. You can then export the notebook by using the menu above and navigating to  \\n\",\n",
    "    \"**File -> Download as -> HTML (.html)**. Include the finished document along with this notebook as your submission. \n",
    "\n",
    "In addition to implementing code, there is a writeup to complete. The writeup should be completed in a separate file, which can be either a markdown file or a pdf document. There is a [write up template](https://github.com/udacity/CarND-Traffic-Sign-Classifier-Project/blob/master/writeup_template.md) that can be used to guide the writing process. Completing the code template and writeup template will cover all of the [rubric points](https://review.udacity.com/#!/rubrics/481/view) for this project.\n",
    "\n",
    "The [rubric](https://review.udacity.com/#!/rubrics/481/view) contains \"Stand Out Suggestions\" for enhancing the project beyond the minimum requirements. The stand out suggestions are optional. If you decide to pursue the \"stand out suggestions\", you can include the code in this Ipython notebook and also discuss the results in the writeup file.\n",
    "\n",
    "\n",
    ">**Note:** Code and Markdown cells can be executed using the **Shift + Enter** keyboard shortcut. In addition, Markdown cells can be edited by typically double-clicking the cell to enter edit mode."
   ]
  },
  {
   "cell_type": "markdown",
   "metadata": {},
   "source": [
    "---\n",
    "## Step 0: Load The Data"
   ]
  },
  {
   "cell_type": "code",
   "execution_count": 1,
   "metadata": {},
   "outputs": [
    {
     "name": "stdout",
     "output_type": "stream",
     "text": [
      "Updated Image Shape: (32, 32, 3)\n",
      "35\n"
     ]
    },
    {
     "data": {
      "image/png": "[encoded data removed]",
      "text/plain": [
       "<matplotlib.figure.Figure at 0x7fcb89348320>"
      ]
     },
     "metadata": {},
     "output_type": "display_data"
    }
   ],
   "source": [
    "# Load pickled data\n",
    "import pickle\n",
    "import random\n",
    "import numpy as np\n",
    "import matplotlib.pyplot as plt\n",
    "%matplotlib inline\n",
    "\n",
    "# TODO: Fill this in based on where you saved the training and testing data\n",
    "\n",
    "training_file = '../train.p'\n",
    "validation_file= '../valid.p'\n",
    "testing_file = '../test.p'\n",
    "\n",
    "with open(training_file, mode='rb') as f:\n",
    "    train = pickle.load(f)\n",
    "with open(validation_file, mode='rb') as f:\n",
    "    valid = pickle.load(f)\n",
    "with open(testing_file, mode='rb') as f:\n",
    "    test = pickle.load(f)\n",
    "    \n",
    "X_train, y_train = train['features'], train['labels']\n",
    "X_valid, y_valid = valid['features'], valid['labels']\n",
    "X_test, y_test = test['features'], test['labels']\n",
    "\n",
    "\n",
    "    \n",
    "print(\"Updated Image Shape: {}\".format(X_train[0].shape))\n",
    "index = random.randint(0, len(X_train))\n",
    "image = X_train[index].squeeze()\n",
    "\n",
    "#plt.figure(figsize=(1,1))\n",
    "plt.imshow(image)\n",
    "print(y_train[index])"
   ]
  },
  {
   "cell_type": "markdown",
   "metadata": {},
   "source": [
    "---\n",
    "\n",
    "## Step 1: Dataset Summary & Exploration\n",
    "\n",
    "The pickled data is a dictionary with 4 key/value pairs:\n",
    "\n",
    "- `'features'` is a 4D array containing raw pixel data of the traffic sign images, (num examples, width, height, channels).\n",
    "- `'labels'` is a 1D array containing the label/class id of the traffic sign. The file `signnames.csv` contains id -> name mappings for each id.\n",
    "- `'sizes'` is a list containing tuples, (width, height) representing the original width and height the image.\n",
    "- `'coords'` is a list containing tuples, (x1, y1, x2, y2) representing coordinates of a bounding box around the sign in the image. **THESE COORDINATES ASSUME THE ORIGINAL IMAGE. THE PICKLED DATA CONTAINS RESIZED VERSIONS (32 by 32) OF THESE IMAGES**\n",
    "\n",
    "Complete the basic data summary below. Use python, numpy and/or pandas methods to calculate the data summary rather than hard coding the results. For example, the [pandas shape method](http://pandas.pydata.org/pandas-docs/stable/generated/pandas.DataFrame.shape.html) might be useful for calculating some of the summary results. "
   ]
  },
  {
   "cell_type": "markdown",
   "metadata": {},
   "source": [
    "### Provide a Basic Summary of the Data Set Using Python, Numpy and/or Pandas"
   ]
  },
  {
   "cell_type": "code",
   "execution_count": 2,
   "metadata": {},
   "outputs": [
    {
     "name": "stdout",
     "output_type": "stream",
     "text": [
      "Number of training examples = 34799\n",
      "Number of validation examples = 4410\n",
      "Number of testing examples = 12630\n",
      "Image data shape = (32, 32, 3)\n",
      "Number of classes = 43\n"
     ]
    }
   ],
   "source": [
    "### Replace each question mark with the appropriate value. \n",
    "### Use python, pandas or numpy methods rather than hard coding the results\n",
    "# function to get unique values\n",
    "# y_list = []\n",
    "# y_list.append(y_train)\n",
    "# y_list.append(y_valid)\n",
    "# y_list.append(y_test)\n",
    "\n",
    "\n",
    "# TODO: Number of training examples\n",
    "n_train = len(y_train)\n",
    "\n",
    "# TODO: Number of validation examples\n",
    "n_validation = len(y_valid)\n",
    "\n",
    "# TODO: Number of testing examples.\n",
    "n_test = len(y_test)\n",
    "\n",
    "# TODO: What's the shape of an traffic sign image?\n",
    "image_shape = X_train[0].shape\n",
    "\n",
    "# TODO: How many unique classes/labels there are in the dataset.\n",
    "\n",
    "n_classes = len(np.unique(y_train))\n",
    "\n",
    "print(\"Number of training examples =\", n_train)\n",
    "print(\"Number of validation examples =\", n_validation)\n",
    "print(\"Number of testing examples =\", n_test)\n",
    "print(\"Image data shape =\", image_shape)\n",
    "print(\"Number of classes =\", n_classes)"
   ]
  },
  {
   "cell_type": "markdown",
   "metadata": {},
   "source": [
    "### Include an exploratory visualization of the dataset"
   ]
  },
  {
   "cell_type": "markdown",
   "metadata": {},
   "source": [
    "Visualize the German Traffic Signs Dataset using the pickled file(s). This is open ended, suggestions include: plotting traffic sign images, plotting the count of each sign, etc. \n",
    "\n",
    "The [Matplotlib](http://matplotlib.org/) [examples](http://matplotlib.org/examples/index.html) and [gallery](http://matplotlib.org/gallery.html) pages are a great resource for doing visualizations in Python.\n",
    "\n",
    "**NOTE:** It's recommended you start with something simple first. If you wish to do more, come back to it after you've completed the rest of the sections. It can be interesting to look at the distribution of classes in the training, validation and test set. Is the distribution the same? Are there more examples of some classes than others?"
   ]
  },
  {
   "cell_type": "code",
   "execution_count": 3,
   "metadata": {},
   "outputs": [
    {
     "data": {
      "image/png": "[encoded data removed]",
      "text/plain": [
       "<matplotlib.figure.Figure at 0x7fcb89068a20>"
      ]
     },
     "metadata": {},
     "output_type": "display_data"
    }
   ],
   "source": [
    "### Data exploration visualization code goes here.\n",
    "### Feel free to use as many code cells as needed.\n",
    "import matplotlib.pyplot as plt\n",
    "# Visualizations will be shown in the notebook.\n",
    "%matplotlib inline\n",
    "\n",
    "\n",
    "fig = plt.figure()\n",
    "\n",
    "\n",
    "k = 0\n",
    "for i in range(0,10):\n",
    "    index = random.randint(0, len(X_train))\n",
    "    k = k + 1\n",
    "    ax = plt.subplot(2, 5, k)\n",
    "    imgplot = plt.imshow(X_train[index].squeeze())"
   ]
  },
  {
   "cell_type": "code",
   "execution_count": 4,
   "metadata": {},
   "outputs": [
    {
     "data": {
      "text/plain": [
       "<matplotlib.text.Text at 0x7fcb88b10668>"
      ]
     },
     "execution_count": 4,
     "metadata": {},
     "output_type": "execute_result"
    },
    {
     "data": {
      "image/png": "[encoded data removed]",
      "text/plain": [
       "<matplotlib.figure.Figure at 0x7fcbbc3cd908>"
      ]
     },
     "metadata": {},
     "output_type": "display_data"
    }
   ],
   "source": [
    "num_bins = 43  # class\n",
    "\n",
    "\n",
    "ax = plt.subplot(3, 1, 1)\n",
    "n, bins, patches = plt.hist(y_train, num_bins, facecolor='red')\n",
    "ax.set_title('train_sets')\n",
    "ax = plt.subplot(3, 1, 2)\n",
    "n, bins, patches = plt.hist(y_valid, num_bins, facecolor='green')\n",
    "ax.set_title('valid_sets')\n",
    "ax = plt.subplot(3, 1, 3)\n",
    "n, bins, patches = plt.hist(y_test, num_bins, facecolor='blue')\n",
    "ax.set_title('test_sets')\n",
    "\n"
   ]
  },
  {
   "cell_type": "markdown",
   "metadata": {},
   "source": [
    "----\n",
    "\n",
    "## Step 2: Design and Test a Model Architecture\n",
    "\n",
    "Design and implement a deep learning model that learns to recognize traffic signs. Train and test your model on the [German Traffic Sign Dataset](http://benchmark.ini.rub.de/?section=gtsrb&subsection=dataset).\n",
    "\n",
    "The LeNet-5 implementation shown in the [classroom](https://classroom.udacity.com/nanodegrees/nd013/parts/fbf77062-5703-404e-b60c-95b78b2f3f9e/modules/6df7ae49-c61c-4bb2-a23e-6527e69209ec/lessons/601ae704-1035-4287-8b11-e2c2716217ad/concepts/d4aca031-508f-4e0b-b493-e7b706120f81) at the end of the CNN lesson is a solid starting point. You'll have to change the number of classes and possibly the preprocessing, but aside from that it's plug and play! \n",
    "\n",
    "With the LeNet-5 solution from the lecture, you should expect a validation set accuracy of about 0.89. To meet specifications, the validation set accuracy will need to be at least 0.93. It is possible to get an even higher accuracy, but 0.93 is the minimum for a successful project submission. \n",
    "\n",
    "There are various aspects to consider when thinking about this problem:\n",
    "\n",
    "- Neural network architecture (is the network over or underfitting?)\n",
    "- Play around preprocessing techniques (normalization, rgb to grayscale, etc)\n",
    "- Number of examples per label (some have more than others).\n",
    "- Generate fake data.\n",
    "\n",
    "Here is an example of a [published baseline model on this problem](http://yann.lecun.com/exdb/publis/pdf/sermanet-ijcnn-11.pdf). It's not required to be familiar with the approach used in the paper but, it's good practice to try to read papers like these."
   ]
  },
  {
   "cell_type": "markdown",
   "metadata": {},
   "source": [
    "### Pre-process the Data Set (normalization, grayscale, etc.)"
   ]
  },
  {
   "cell_type": "markdown",
   "metadata": {},
   "source": [
    "Minimally, the image data should be normalized so that the data has mean zero and equal variance. For image data, `(pixel - 128)/ 128` is a quick way to approximately normalize the data and can be used in this project. \n",
    "\n",
    "Other pre-processing steps are optional. You can try different techniques to see if it improves performance. \n",
    "\n",
    "Use the code cell (or multiple code cells, if necessary) to implement the first step of your project."
   ]
  },
  {
   "cell_type": "code",
   "execution_count": 5,
   "metadata": {},
   "outputs": [
    {
     "name": "stdout",
     "output_type": "stream",
     "text": [
      "(4410, 32, 32, 1)\n"
     ]
    },
    {
     "data": {
      "image/png": "[encoded data removed]",
      "text/plain": [
       "<matplotlib.figure.Figure at 0x7fcb88ccfc18>"
      ]
     },
     "metadata": {},
     "output_type": "display_data"
    }
   ],
   "source": [
    "### Preprocess the data here. It is required to normalize the data. Other preprocessing steps could include \n",
    "### converting to grayscale, etc.\n",
    "### Feel free to use as many code cells as needed.\n",
    "\n",
    "#Convert to normalization and gray scale:\n",
    "\n",
    "X_train_gray = np.sum(X_train/3, axis=3, keepdims=True)\n",
    "X_train_gray_Norm = (X_train_gray - 128)/128\n",
    "\n",
    "X_valid_gray = np.sum(X_valid/3, axis=3, keepdims=True)\n",
    "X_valid_gray_Norm = (X_valid_gray - 128)/128\n",
    "\n",
    "X_test_gray = np.sum(X_test/3, axis=3, keepdims=True)\n",
    "X_test_gray_Norm = (X_test_gray - 128)/128\n",
    "\n",
    "ax = plt.subplot(1, 2, 1)\n",
    "ax.set_title('Gray')\n",
    "plt.imshow(X_train_gray_Norm[20].squeeze())\n",
    "ax = plt.subplot(1, 2, 2)\n",
    "ax.set_title('Color')\n",
    "plt.imshow(X_train[20].squeeze())\n",
    "print(X_valid_gray_Norm.shape)\n"
   ]
  },
  {
   "cell_type": "markdown",
   "metadata": {},
   "source": [
    "### Model Architecture"
   ]
  },
  {
   "cell_type": "code",
   "execution_count": 6,
   "metadata": {
    "collapsed": true
   },
   "outputs": [],
   "source": [
    "### Define your architecture here.\n",
    "### Feel free to use as many code cells as needed.\n",
    "\n",
    "from tensorflow.contrib.layers import flatten\n",
    "\n",
    "def LeNet(x):    \n",
    "    # Arguments used for tf.truncated_normal, randomly defines variables for the weights and biases for each layer\n",
    "    mu = 0\n",
    "    sigma = 0.1\n",
    "    # TODO: Layer 1: Convolutional. Input = 32x32x1. Output = 28x28x6.---------------------------------------------\n",
    "    \n",
    "    # setup the filter input shape for tf.nn.conv_2d\n",
    "    num_input_channels1 = 1\n",
    "    num_filters1 = 6\n",
    "    filter_shape1 = [5,5]\n",
    "    conv_filt_shape1 = [filter_shape1[0], filter_shape1[1], num_input_channels1,\n",
    "                      num_filters1]\n",
    "\n",
    "    # initialise weights and bias for the filter\n",
    "    weights1 = tf.Variable(tf.truncated_normal(conv_filt_shape1, mean = mu, stddev = sigma))\n",
    "    bias1 = tf.Variable(tf.zeros(num_filters1))\n",
    "    \n",
    "    # setup the convolutional layer operation\n",
    "    out_layer1 = tf.nn.conv2d(x, weights1, [1, 1, 1, 1], padding='VALID')\n",
    "\n",
    "    # add the bias\n",
    "    out_layer1 += bias1\n",
    "    \n",
    "    # TODO: Activation.--------------------------------------------------------------------------------------------\n",
    "    \n",
    "    # apply a ReLU non-linear activation\n",
    "    out_layer1 = tf.nn.relu(out_layer1)\n",
    "    \n",
    "    \n",
    "    # TODO: Pooling. Input = 28x28x6. Output = 14x14x6.------------------------------------------------------------\n",
    "    \n",
    "    # now perform max pooling\n",
    "    pool_shape1 = [2,2]\n",
    "    ksize1 = [1, pool_shape1[0], pool_shape1[1], 1]\n",
    "    strides1 = [1, 2, 2, 1]\n",
    "    out_layer1 = tf.nn.max_pool(out_layer1, ksize=ksize1, strides=strides1, \n",
    "                               padding='SAME')\n",
    "    \n",
    "    \n",
    "    # TODO: Layer 2: Convolutional. Output = 10x10x16.-------------------------------------------------------------\n",
    "    \n",
    "     # setup the filter input shape for tf.nn.conv_2d\n",
    "    num_input_channels2 = 6\n",
    "    num_filters2 = 16\n",
    "    filter_shape2 = [5,5]\n",
    "    conv_filt_shape2 = [filter_shape2[0], filter_shape2[1], num_input_channels2,\n",
    "                      num_filters2]\n",
    "\n",
    "    # initialise weights and bias for the filter\n",
    "    weights2 = tf.Variable(tf.truncated_normal(conv_filt_shape2, mean = mu, stddev = sigma))\n",
    "    bias2 = tf.Variable(tf.zeros(num_filters2))\n",
    "    \n",
    "    # setup the convolutional layer operation\n",
    "    out_layer2 = tf.nn.conv2d(out_layer1, weights2, [1, 1, 1, 1], padding='VALID')\n",
    "\n",
    "    # add the bias\n",
    "    out_layer2 += bias2\n",
    "    \n",
    "    # TODO: Activation.--------------------------------------------------------------------------------------------\n",
    "    \n",
    "    out_layer2 = tf.nn.relu(out_layer2)\n",
    "    \n",
    "    # TODO: Pooling. Input = 10x10x16. Output = 5x5x16.------------------------------------------------------------\n",
    "    \n",
    "    # now perform max pooling\n",
    "    pool_shape2 = [2,2]\n",
    "    ksize2 = [1, pool_shape2[0], pool_shape2[1], 1]\n",
    "    strides2 = [1, 2, 2, 1]\n",
    "    out_layer2 = tf.nn.max_pool(out_layer2, ksize=ksize2, strides=strides2, \n",
    "                               padding='SAME')\n",
    "    \n",
    "\n",
    "    # TODO: Flatten. Input = 5x5x16. Output = 400.-----------------------------------------------------------------\n",
    "    \n",
    "    flattened = tf.reshape(out_layer2, [-1, 5 * 5 * 16])\n",
    "    \n",
    "    # TODO: Layer 3: Fully Connected. Input = 400. Output = 120.---------------------------------------------------\n",
    "    \n",
    "    wd1 = tf.Variable(tf.truncated_normal([400, 120], mean = mu, stddev = sigma))\n",
    "    bd1 = tf.Variable(tf.zeros(120))\n",
    "    dense_layer1 = tf.matmul(flattened, wd1) + bd1\n",
    "    \n",
    "    # TODO: Activation.--------------------------------------------------------------------------------------------\n",
    "    \n",
    "    dense_layer1 = tf.nn.relu(dense_layer1)\n",
    "    \n",
    "    # Dropout-------------------------------------------------------------------------------------------------------\n",
    "    dense_layer1 = tf.nn.dropout(dense_layer1, keep_prob)\n",
    "    \n",
    "\n",
    "    # TODO: Layer 4: Fully Connected. Input = 120. Output = 84.----------------------------------------------------\n",
    "    \n",
    "    wd2 = tf.Variable(tf.truncated_normal([120, 84], mean = mu, stddev = sigma))\n",
    "    bd2 = tf.Variable(tf.zeros(84))\n",
    "    dense_layer2 = tf.matmul(dense_layer1, wd2) + bd2\n",
    "    \n",
    "    # TODO: Activation.--------------------------------------------------------------------------------------------\n",
    "    \n",
    "    dense_layer2 = tf.nn.relu(dense_layer2)\n",
    "    \n",
    "    \n",
    "    # Dropout-------------------------------------------------------------------------------------------------------\n",
    "    dense_layer2 = tf.nn.dropout(dense_layer2, keep_prob)\n",
    "\n",
    "    # TODO: Layer 5: Fully Connected. Input = 84. Output = 43.-----------------------------------------------------\n",
    "    \n",
    "    wd3 = tf.Variable(tf.truncated_normal([84, 43], stddev=0.03))\n",
    "    bd3 = tf.Variable(tf.zeros(43))\n",
    "    logits = tf.matmul(dense_layer2, wd3) + bd3\n",
    "    \n",
    "    return logits"
   ]
  },
  {
   "cell_type": "markdown",
   "metadata": {},
   "source": [
    "### Train, Validate and Test the Model"
   ]
  },
  {
   "cell_type": "markdown",
   "metadata": {},
   "source": [
    "A validation set can be used to assess how well the model is performing. A low accuracy on the training and validation\n",
    "sets imply underfitting. A high accuracy on the training set but low accuracy on the validation set implies overfitting."
   ]
  },
  {
   "cell_type": "code",
   "execution_count": 7,
   "metadata": {
    "collapsed": true
   },
   "outputs": [],
   "source": [
    "### Train your model here.\n",
    "### Calculate and report the accuracy on the training and validation set.\n",
    "### Once a final model architecture is selected, \n",
    "### the accuracy on the test set should be calculated and reported as well.\n",
    "### Feel free to use as many code cells as needed.\n",
    "import tensorflow as tf\n",
    "from sklearn.utils import shuffle\n",
    "\n",
    "EPOCHS = 60\n",
    "BATCH_SIZE = 100\n",
    "\n",
    "x = tf.placeholder(tf.float32, (None, 32, 32, 1))\n",
    "y = tf.placeholder(tf.int32, (None))\n",
    "one_hot_y = tf.one_hot(y, 43)\n",
    "keep_prob = tf.placeholder(tf.float32) "
   ]
  },
  {
   "cell_type": "code",
   "execution_count": 8,
   "metadata": {
    "collapsed": true
   },
   "outputs": [],
   "source": [
    "rate = 0.001\n",
    "\n",
    "logits = LeNet(x)\n",
    "cross_entropy = tf.nn.softmax_cross_entropy_with_logits(labels=one_hot_y, logits=logits)\n",
    "loss_operation = tf.reduce_mean(cross_entropy)\n",
    "optimizer = tf.train.AdamOptimizer(learning_rate = rate)\n",
    "training_operation = optimizer.minimize(loss_operation)"
   ]
  },
  {
   "cell_type": "code",
   "execution_count": 9,
   "metadata": {
    "collapsed": true
   },
   "outputs": [],
   "source": [
    "correct_prediction = tf.equal(tf.argmax(logits, 1), tf.argmax(one_hot_y, 1))\n",
    "accuracy_operation = tf.reduce_mean(tf.cast(correct_prediction, tf.float32))\n",
    "saver = tf.train.Saver()\n",
    "\n",
    "def evaluate(X_data, y_data):\n",
    "    num_examples = len(X_data)\n",
    "    total_accuracy = 0\n",
    "    sess = tf.get_default_session()\n",
    "    for offset in range(0, num_examples, BATCH_SIZE):\n",
    "        batch_x, batch_y = X_data[offset:offset+BATCH_SIZE], y_data[offset:offset+BATCH_SIZE]\n",
    "        accuracy = sess.run(accuracy_operation, feed_dict={x: batch_x, y: batch_y, keep_prob: 1.0})\n",
    "        total_accuracy += (accuracy * len(batch_x))\n",
    "    return total_accuracy / num_examples"
   ]
  },
  {
   "cell_type": "code",
   "execution_count": 10,
   "metadata": {},
   "outputs": [
    {
     "name": "stdout",
     "output_type": "stream",
     "text": [
      "Training...\n",
      "\n",
      "EPOCH 1 ...\n",
      "Validation Accuracy = 0.575\n",
      "Test Accuracy = 0.590\n",
      "\n",
      "EPOCH 2 ...\n",
      "Validation Accuracy = 0.772\n",
      "Test Accuracy = 0.768\n",
      "\n",
      "EPOCH 3 ...\n",
      "Validation Accuracy = 0.826\n",
      "Test Accuracy = 0.822\n",
      "\n",
      "EPOCH 4 ...\n",
      "Validation Accuracy = 0.866\n",
      "Test Accuracy = 0.850\n",
      "\n",
      "EPOCH 5 ...\n",
      "Validation Accuracy = 0.879\n",
      "Test Accuracy = 0.869\n",
      "\n",
      "EPOCH 6 ...\n",
      "Validation Accuracy = 0.887\n",
      "Test Accuracy = 0.879\n",
      "\n",
      "EPOCH 7 ...\n",
      "Validation Accuracy = 0.906\n",
      "Test Accuracy = 0.889\n",
      "\n",
      "EPOCH 8 ...\n",
      "Validation Accuracy = 0.921\n",
      "Test Accuracy = 0.900\n",
      "\n",
      "EPOCH 9 ...\n",
      "Validation Accuracy = 0.923\n",
      "Test Accuracy = 0.902\n",
      "\n",
      "EPOCH 10 ...\n",
      "Validation Accuracy = 0.924\n",
      "Test Accuracy = 0.910\n",
      "\n",
      "EPOCH 11 ...\n",
      "Validation Accuracy = 0.930\n",
      "Test Accuracy = 0.916\n",
      "\n",
      "EPOCH 12 ...\n",
      "Validation Accuracy = 0.932\n",
      "Test Accuracy = 0.916\n",
      "\n",
      "EPOCH 13 ...\n",
      "Validation Accuracy = 0.939\n",
      "Test Accuracy = 0.916\n",
      "\n",
      "EPOCH 14 ...\n",
      "Validation Accuracy = 0.930\n",
      "Test Accuracy = 0.920\n",
      "\n",
      "EPOCH 15 ...\n",
      "Validation Accuracy = 0.942\n",
      "Test Accuracy = 0.922\n",
      "\n",
      "EPOCH 16 ...\n",
      "Validation Accuracy = 0.944\n",
      "Test Accuracy = 0.922\n",
      "\n",
      "EPOCH 17 ...\n",
      "Validation Accuracy = 0.935\n",
      "Test Accuracy = 0.917\n",
      "\n",
      "EPOCH 18 ...\n",
      "Validation Accuracy = 0.939\n",
      "Test Accuracy = 0.927\n",
      "\n",
      "EPOCH 19 ...\n",
      "Validation Accuracy = 0.939\n",
      "Test Accuracy = 0.919\n",
      "\n",
      "EPOCH 20 ...\n",
      "Validation Accuracy = 0.937\n",
      "Test Accuracy = 0.922\n",
      "\n",
      "EPOCH 21 ...\n",
      "Validation Accuracy = 0.945\n",
      "Test Accuracy = 0.923\n",
      "\n",
      "EPOCH 22 ...\n",
      "Validation Accuracy = 0.937\n",
      "Test Accuracy = 0.926\n",
      "\n",
      "EPOCH 23 ...\n",
      "Validation Accuracy = 0.945\n",
      "Test Accuracy = 0.931\n",
      "\n",
      "EPOCH 24 ...\n",
      "Validation Accuracy = 0.944\n",
      "Test Accuracy = 0.929\n",
      "\n",
      "EPOCH 25 ...\n",
      "Validation Accuracy = 0.943\n",
      "Test Accuracy = 0.925\n",
      "\n",
      "EPOCH 26 ...\n",
      "Validation Accuracy = 0.949\n",
      "Test Accuracy = 0.931\n",
      "\n",
      "EPOCH 27 ...\n",
      "Validation Accuracy = 0.950\n",
      "Test Accuracy = 0.933\n",
      "\n",
      "EPOCH 28 ...\n",
      "Validation Accuracy = 0.951\n",
      "Test Accuracy = 0.932\n",
      "\n",
      "EPOCH 29 ...\n",
      "Validation Accuracy = 0.946\n",
      "Test Accuracy = 0.931\n",
      "\n",
      "EPOCH 30 ...\n",
      "Validation Accuracy = 0.953\n",
      "Test Accuracy = 0.934\n",
      "\n",
      "EPOCH 31 ...\n",
      "Validation Accuracy = 0.952\n",
      "Test Accuracy = 0.936\n",
      "\n",
      "EPOCH 32 ...\n",
      "Validation Accuracy = 0.948\n",
      "Test Accuracy = 0.933\n",
      "\n",
      "EPOCH 33 ...\n",
      "Validation Accuracy = 0.952\n",
      "Test Accuracy = 0.932\n",
      "\n",
      "EPOCH 34 ...\n",
      "Validation Accuracy = 0.951\n",
      "Test Accuracy = 0.932\n",
      "\n",
      "EPOCH 35 ...\n",
      "Validation Accuracy = 0.953\n",
      "Test Accuracy = 0.932\n",
      "\n",
      "EPOCH 36 ...\n",
      "Validation Accuracy = 0.954\n",
      "Test Accuracy = 0.938\n",
      "\n",
      "EPOCH 37 ...\n",
      "Validation Accuracy = 0.950\n",
      "Test Accuracy = 0.936\n",
      "\n",
      "EPOCH 38 ...\n",
      "Validation Accuracy = 0.953\n",
      "Test Accuracy = 0.936\n",
      "\n",
      "EPOCH 39 ...\n",
      "Validation Accuracy = 0.959\n",
      "Test Accuracy = 0.934\n",
      "\n",
      "EPOCH 40 ...\n",
      "Validation Accuracy = 0.954\n",
      "Test Accuracy = 0.933\n",
      "\n",
      "EPOCH 41 ...\n",
      "Validation Accuracy = 0.954\n",
      "Test Accuracy = 0.932\n",
      "\n",
      "EPOCH 42 ...\n",
      "Validation Accuracy = 0.954\n",
      "Test Accuracy = 0.935\n",
      "\n",
      "EPOCH 43 ...\n",
      "Validation Accuracy = 0.956\n",
      "Test Accuracy = 0.936\n",
      "\n",
      "EPOCH 44 ...\n",
      "Validation Accuracy = 0.958\n",
      "Test Accuracy = 0.936\n",
      "\n",
      "EPOCH 45 ...\n",
      "Validation Accuracy = 0.951\n",
      "Test Accuracy = 0.940\n",
      "\n",
      "EPOCH 46 ...\n",
      "Validation Accuracy = 0.957\n",
      "Test Accuracy = 0.939\n",
      "\n",
      "EPOCH 47 ...\n",
      "Validation Accuracy = 0.955\n",
      "Test Accuracy = 0.936\n",
      "\n",
      "EPOCH 48 ...\n",
      "Validation Accuracy = 0.955\n",
      "Test Accuracy = 0.941\n",
      "\n",
      "EPOCH 49 ...\n",
      "Validation Accuracy = 0.951\n",
      "Test Accuracy = 0.936\n",
      "\n",
      "EPOCH 50 ...\n",
      "Validation Accuracy = 0.951\n",
      "Test Accuracy = 0.937\n",
      "\n",
      "EPOCH 51 ...\n",
      "Validation Accuracy = 0.959\n",
      "Test Accuracy = 0.938\n",
      "\n",
      "EPOCH 52 ...\n",
      "Validation Accuracy = 0.955\n",
      "Test Accuracy = 0.938\n",
      "\n",
      "EPOCH 53 ...\n",
      "Validation Accuracy = 0.963\n",
      "Test Accuracy = 0.942\n",
      "\n",
      "EPOCH 54 ...\n",
      "Validation Accuracy = 0.952\n",
      "Test Accuracy = 0.937\n",
      "\n",
      "EPOCH 55 ...\n",
      "Validation Accuracy = 0.958\n",
      "Test Accuracy = 0.937\n",
      "\n",
      "EPOCH 56 ...\n",
      "Validation Accuracy = 0.955\n",
      "Test Accuracy = 0.937\n",
      "\n",
      "EPOCH 57 ...\n",
      "Validation Accuracy = 0.948\n",
      "Test Accuracy = 0.939\n",
      "\n",
      "EPOCH 58 ...\n",
      "Validation Accuracy = 0.956\n",
      "Test Accuracy = 0.938\n",
      "\n",
      "EPOCH 59 ...\n",
      "Validation Accuracy = 0.956\n",
      "Test Accuracy = 0.937\n",
      "\n",
      "EPOCH 60 ...\n",
      "Validation Accuracy = 0.954\n",
      "Test Accuracy = 0.942\n",
      "\n",
      "Model saved\n"
     ]
    }
   ],
   "source": [
    "with tf.Session() as sess:\n",
    "    sess.run(tf.global_variables_initializer())\n",
    "    num_examples = len(X_train)\n",
    "    \n",
    "    print(\"Training...\")\n",
    "    print()\n",
    "    for i in range(EPOCHS):\n",
    "        X_train_gray_Norm, y_train = shuffle(X_train_gray_Norm, y_train)\n",
    "        for offset in range(0, num_examples, BATCH_SIZE):\n",
    "            end = offset + BATCH_SIZE\n",
    "            batch_x, batch_y = X_train_gray_Norm[offset:end], y_train[offset:end]\n",
    "           # print(\"Shape of batch_x\", batch_x.shape)\n",
    "            sess.run(training_operation, feed_dict={x: batch_x, y: batch_y, keep_prob: 0.5})\n",
    "            \n",
    "        validation_accuracy = evaluate(X_valid_gray_Norm, y_valid)\n",
    "        test_accuracy = evaluate(X_test_gray_Norm, y_test)\n",
    "        print(\"EPOCH {} ...\".format(i+1))\n",
    "        print(\"Validation Accuracy = {:.3f}\".format(validation_accuracy))\n",
    "        print(\"Test Accuracy = {:.3f}\".format(test_accuracy))\n",
    "        print()\n",
    "        \n",
    "    saver.save(sess, './lenet')\n",
    "    print(\"Model saved\")"
   ]
  },
  {
   "cell_type": "markdown",
   "metadata": {},
   "source": [
    "---\n",
    "\n",
    "## Step 3: Test a Model on New Images\n",
    "\n",
    "To give yourself more insight into how your model is working, download at least five pictures of German traffic signs from the web and use your model to predict the traffic sign type.\n",
    "\n",
    "You may find `signnames.csv` useful as it contains mappings from the class id (integer) to the actual sign name."
   ]
  },
  {
   "cell_type": "markdown",
   "metadata": {},
   "source": [
    "### Load and Output the Images"
   ]
  },
  {
   "cell_type": "code",
   "execution_count": 13,
   "metadata": {},
   "outputs": [
    {
     "name": "stdout",
     "output_type": "stream",
     "text": [
      "(5, 32, 32, 1)\n",
      "float32\n"
     ]
    },
    {
     "data": {
      "image/png": "[encoded data removed]",
      "text/plain": [
       "<matplotlib.figure.Figure at 0x7fcafc092cf8>"
      ]
     },
     "metadata": {},
     "output_type": "display_data"
    }
   ],
   "source": [
    "### Load the images and plot them here.\n",
    "### Feel free to use as many code cells as needed.\n",
    "import PIL\n",
    "from PIL import Image\n",
    "import glob\n",
    "import cv2\n",
    "\n",
    "\n",
    "\n",
    "image_list = []\n",
    "imageG_list = []\n",
    "Img_Test = []\n",
    "for filename in glob.glob('../InternetData/*.jpg') + glob.glob('../InternetData/*.png'): \n",
    "    im = cv2.imread( filename )\n",
    "    image_list.append(im)\n",
    "    \n",
    "fig = plt.figure()\n",
    "\n",
    "k = 0\n",
    "for i in range(0, 5):\n",
    "    k = k + 1\n",
    "    image_list[i] = cv2.resize(image_list[i], (32, 32)) \n",
    "    Img_Test.append(image_list[i])\n",
    "    ax = plt.subplot(1, 5, k)\n",
    "    imgplot = plt.imshow(image_list[i])\n",
    "    \n",
    " \n",
    "image_list = np.asarray(image_list)\n",
    "imagesG = np.sum(image_list/3, axis=3, keepdims=True)\n",
    "Img_Test = (imagesG - 128)/128\n",
    "\n",
    "\n",
    "Img_Test = Img_Test.astype(np.float32)\n",
    "print(Img_Test.shape)\n",
    "print(Img_Test.dtype)"
   ]
  },
  {
   "cell_type": "markdown",
   "metadata": {},
   "source": [
    "### Predict the Sign Type for Each Image"
   ]
  },
  {
   "cell_type": "code",
   "execution_count": 14,
   "metadata": {},
   "outputs": [
    {
     "name": "stdout",
     "output_type": "stream",
     "text": [
      "Test Prediction: [[  4.35691544e-12   9.99999166e-01   8.68058009e-07   3.47254392e-15\n",
      "    2.30774735e-16   1.56147262e-09   1.88005264e-10   1.59332698e-13\n",
      "    2.01373101e-21   3.92377681e-27   3.02236563e-23   1.21406913e-13\n",
      "    1.50703560e-14   6.97120194e-21   2.15450612e-16   1.47278436e-26\n",
      "    3.55854347e-22   7.95521406e-25   3.44509535e-25   1.73725978e-17\n",
      "    2.46620013e-30   2.87688289e-17   0.00000000e+00   9.43868375e-27\n",
      "    2.37213000e-29   5.13819226e-25   2.32938218e-30   5.41932233e-23\n",
      "    3.16039496e-26   5.45743606e-29   2.40766080e-26   5.98280149e-17\n",
      "    9.52885661e-23   6.01863682e-21   7.80604381e-34   3.89215104e-23\n",
      "    1.04144596e-23   5.92656976e-21   7.10038686e-18   1.34590803e-22\n",
      "    4.09903448e-13   3.50531822e-26   1.05492646e-20]\n",
      " [  9.38616420e-19   2.13588576e-21   0.00000000e+00   7.49454686e-37\n",
      "    2.24810780e-23   0.00000000e+00   0.00000000e+00   0.00000000e+00\n",
      "    9.48940064e-30   2.04342386e-29   0.00000000e+00   3.28643035e-34\n",
      "    5.04591786e-23   5.58670725e-23   1.78504639e-12   5.53062561e-29\n",
      "    0.00000000e+00   1.00000000e+00   3.78299307e-25   0.00000000e+00\n",
      "    2.51326834e-32   0.00000000e+00   1.04294969e-23   0.00000000e+00\n",
      "    0.00000000e+00   6.10033657e-26   2.31310315e-20   0.00000000e+00\n",
      "    2.60666350e-33   4.23755962e-25   2.02363462e-37   0.00000000e+00\n",
      "    1.50920324e-32   6.42703777e-26   2.05358117e-23   5.90362817e-28\n",
      "    1.86520155e-19   4.20486359e-21   9.84416763e-25   3.73437286e-25\n",
      "    7.88415775e-19   9.08461347e-28   0.00000000e+00]\n",
      " [  4.28363945e-25   2.63782811e-12   4.33525685e-07   5.84225184e-08\n",
      "    3.73794639e-21   1.36128833e-13   7.96789967e-23   2.08357181e-12\n",
      "    1.82063887e-21   3.66866608e-08   1.92984814e-07   1.52588401e-15\n",
      "    3.83913630e-07   9.99997020e-01   3.21031840e-17   5.64337951e-11\n",
      "    1.02543230e-20   2.48162157e-10   3.19718320e-23   1.56621975e-18\n",
      "    1.82311083e-16   3.56366646e-17   7.51174493e-17   5.21908315e-11\n",
      "    1.28600231e-22   3.27680591e-12   1.51968350e-18   1.28361011e-30\n",
      "    4.12004822e-13   9.78802136e-15   1.02577968e-14   7.00814621e-20\n",
      "    9.90114514e-20   3.34723959e-12   1.17032837e-08   2.33603942e-10\n",
      "    1.35222074e-13   2.26886977e-18   3.27145117e-10   5.19795014e-12\n",
      "    3.59680707e-09   6.67673916e-10   1.97641111e-06]\n",
      " [  8.01817123e-07   1.81873864e-03   1.81721189e-04   1.86432968e-03\n",
      "    1.07846188e-03   3.39382706e-04   1.38209742e-07   5.72333192e-07\n",
      "    1.41154142e-05   8.52309313e-06   3.06266372e-07   9.87691493e-08\n",
      "    1.70549273e-03   9.42734815e-03   8.24707985e-01   5.28877974e-02\n",
      "    1.48864912e-08   9.44366111e-05   1.76061278e-07   3.25302199e-06\n",
      "    4.79487824e-07   4.06949185e-09   2.70329835e-03   2.73368386e-07\n",
      "    1.04509510e-07   9.62313672e-04   1.39402517e-04   5.11960385e-09\n",
      "    1.11957479e-05   1.33190118e-02   9.34876482e-07   5.86626605e-08\n",
      "    4.66935489e-05   1.01572892e-03   5.48018701e-02   1.31365145e-02\n",
      "    1.71173252e-02   1.06308480e-05   2.52941041e-03   7.03871119e-05\n",
      "    5.22757944e-07   8.85662388e-08   2.03172390e-09]\n",
      " [  0.00000000e+00   0.00000000e+00   0.00000000e+00   5.39480663e-29\n",
      "    0.00000000e+00   0.00000000e+00   0.00000000e+00   0.00000000e+00\n",
      "    0.00000000e+00   3.21235510e-21   0.00000000e+00   0.00000000e+00\n",
      "    0.00000000e+00   2.86570167e-25   0.00000000e+00   8.32867311e-32\n",
      "    0.00000000e+00   0.00000000e+00   0.00000000e+00   0.00000000e+00\n",
      "    0.00000000e+00   0.00000000e+00   0.00000000e+00   0.00000000e+00\n",
      "    0.00000000e+00   0.00000000e+00   0.00000000e+00   0.00000000e+00\n",
      "    0.00000000e+00   5.76272926e-23   0.00000000e+00   0.00000000e+00\n",
      "    0.00000000e+00   2.56494031e-25   4.59551044e-26   1.00000000e+00\n",
      "    0.00000000e+00   0.00000000e+00   0.00000000e+00   0.00000000e+00\n",
      "    0.00000000e+00   0.00000000e+00   0.00000000e+00]]\n"
     ]
    }
   ],
   "source": [
    "### Run the predictions here and use the model to output the prediction for each image.\n",
    "### Make sure to pre-process the images with the same pre-processing pipeline used earlier.\n",
    "### Feel free to use as many code cells as needed.\n",
    "Label_Test = [1,17,13,14,35]\n",
    "softmax = tf.nn.softmax(logits)\n",
    "\n",
    "with tf.Session() as sess:\n",
    "    saver.restore(sess, tf.train.latest_checkpoint('.'))\n",
    "    prediction = sess.run(softmax, feed_dict={x: Img_Test, y: Label_Test, keep_prob: 1.0})\n",
    "    #Img_Prediction = softmax(prediction)\n",
    "    Img_Prediction = prediction\n",
    "    print(\"Test Prediction:\",Img_Prediction)"
   ]
  },
  {
   "cell_type": "markdown",
   "metadata": {},
   "source": [
    "### Analyze Performance"
   ]
  },
  {
   "cell_type": "code",
   "execution_count": 15,
   "metadata": {},
   "outputs": [
    {
     "name": "stdout",
     "output_type": "stream",
     "text": [
      "Test Accuracy = 1.000\n"
     ]
    }
   ],
   "source": [
    "### Calculate the accuracy for these 5 new images. \n",
    "### For example, if the model predicted 1 out of 5 signs correctly, it's 20% accurate on these new images.\n",
    "total_accuracy = 0\n",
    "with tf.Session() as sess:\n",
    "    saver.restore(sess, tf.train.latest_checkpoint('.'))\n",
    "    test_accuracy = sess.run(accuracy_operation, feed_dict={x: Img_Test, y: Label_Test, keep_prob: 1.0})\n",
    "    total_accuracy += (test_accuracy * len(Img_Test))\n",
    "    \n",
    "    \n",
    "    print(\"Test Accuracy = {:.3f}\".format(total_accuracy / 5))"
   ]
  },
  {
   "cell_type": "markdown",
   "metadata": {},
   "source": [
    "### Output Top 5 Softmax Probabilities For Each Image Found on the Web"
   ]
  },
  {
   "cell_type": "markdown",
   "metadata": {},
   "source": [
    "For each of the new images, print out the model's softmax probabilities to show the **certainty** of the model's predictions (limit the output to the top 5 probabilities for each image). [`tf.nn.top_k`](https://www.tensorflow.org/versions/r0.12/api_docs/python/nn.html#top_k) could prove helpful here. \n",
    "\n",
    "The example below demonstrates how tf.nn.top_k can be used to find the top k predictions for each image.\n",
    "\n",
    "`tf.nn.top_k` will return the values and indices (class ids) of the top k predictions. So if k=3, for each sign, it'll return the 3 largest probabilities (out of a possible 43) and the correspoding class ids.\n",
    "\n",
    "Take this numpy array as an example. The values in the array represent predictions. The array contains softmax probabilities for five candidate images with six possible classes. `tf.nn.top_k` is used to choose the three classes with the highest probability:\n",
    "\n",
    "```\n",
    "# (5, 6) array\n",
    "a = np.array([[ 0.24879643,  0.07032244,  0.12641572,  0.34763842,  0.07893497,\n",
    "         0.12789202],\n",
    "       [ 0.28086119,  0.27569815,  0.08594638,  0.0178669 ,  0.18063401,\n",
    "         0.15899337],\n",
    "       [ 0.26076848,  0.23664738,  0.08020603,  0.07001922,  0.1134371 ,\n",
    "         0.23892179],\n",
    "       [ 0.11943333,  0.29198961,  0.02605103,  0.26234032,  0.1351348 ,\n",
    "         0.16505091],\n",
    "       [ 0.09561176,  0.34396535,  0.0643941 ,  0.16240774,  0.24206137,\n",
    "         0.09155967]])\n",
    "```\n",
    "\n",
    "Running it through `sess.run(tf.nn.top_k(tf.constant(a), k=3))` produces:\n",
    "\n",
    "```\n",
    "TopKV2(values=array([[ 0.34763842,  0.24879643,  0.12789202],\n",
    "       [ 0.28086119,  0.27569815,  0.18063401],\n",
    "       [ 0.26076848,  0.23892179,  0.23664738],\n",
    "       [ 0.29198961,  0.26234032,  0.16505091],\n",
    "       [ 0.34396535,  0.24206137,  0.16240774]]), indices=array([[3, 0, 5],\n",
    "       [0, 1, 4],\n",
    "       [0, 5, 1],\n",
    "       [1, 3, 5],\n",
    "       [1, 4, 3]], dtype=int32))\n",
    "```\n",
    "\n",
    "Looking just at the first row we get `[ 0.34763842,  0.24879643,  0.12789202]`, you can confirm these are the 3 largest probabilities in `a`. You'll also notice `[3, 0, 5]` are the corresponding indices."
   ]
  },
  {
   "cell_type": "code",
   "execution_count": 16,
   "metadata": {},
   "outputs": [
    {
     "name": "stdout",
     "output_type": "stream",
     "text": [
      "Image 0 SoftMaxProbabilities: [  9.99999166e-01   8.68058009e-07   1.56147262e-09   1.88005264e-10\n",
      "   4.35691544e-12] \n",
      " and PredictedClasses: [1 2 5 6 0]\n",
      "Image 1 SoftMaxProbabilities: [  1.00000000e+00   1.78504639e-12   9.38616420e-19   7.88415775e-19\n",
      "   1.86520155e-19] \n",
      " and PredictedClasses: [17 14  0 40 36]\n",
      "Image 2 SoftMaxProbabilities: [  9.99997020e-01   1.97641111e-06   4.33525685e-07   3.83913630e-07\n",
      "   1.92984814e-07] \n",
      " and PredictedClasses: [13 42  2 12 10]\n",
      "Image 3 SoftMaxProbabilities: [ 0.82470798  0.05480187  0.0528878   0.01711733  0.01331901] \n",
      " and PredictedClasses: [14 34 15 36 29]\n",
      "Image 4 SoftMaxProbabilities: [  1.00000000e+00   3.21235510e-21   5.76272926e-23   2.86570167e-25\n",
      "   2.56494031e-25] \n",
      " and PredictedClasses: [35  9 29 13 33]\n"
     ]
    }
   ],
   "source": [
    "### Print out the top five softmax probabilities for the predictions on the German traffic sign images found on the web. \n",
    "### Feel free to use as many code cells as needed.\n",
    "\n",
    "with tf.Session() as sess:\n",
    "    SoftMaxProb = sess.run(tf.nn.top_k(Img_Prediction, k=5))\n",
    "    #return SoftMaxProb\n",
    "    #print(\"softmax probabilities = {:.3f}\".format(SoftMaxProb))\n",
    "    \n",
    "for i in range(len(SoftMaxProb[0])):\n",
    "    print('Image', i, 'SoftMaxProbabilities:', SoftMaxProb[0][i], '\\n and PredictedClasses:', SoftMaxProb[1][i])"
   ]
  },
  {
   "cell_type": "markdown",
   "metadata": {},
   "source": [
    "### Project Writeup\n",
    "\n",
    "Once you have completed the code implementation, document your results in a project writeup using this [template](https://github.com/udacity/CarND-Traffic-Sign-Classifier-Project/blob/master/writeup_template.md) as a guide. The writeup can be in a markdown or pdf file. "
   ]
  },
  {
   "cell_type": "markdown",
   "metadata": {},
   "source": [
    "> **Note**: Once you have completed all of the code implementations and successfully answered each question above, you may finalize your work by exporting the iPython Notebook as an HTML document. You can do this by using the menu above and navigating to  \\n\",\n",
    "    \"**File -> Download as -> HTML (.html)**. Include the finished document along with this notebook as your submission."
   ]
  },
  {
   "cell_type": "markdown",
   "metadata": {},
   "source": [
    "---\n",
    "\n",
    "## Step 4 (Optional): Visualize the Neural Network's State with Test Images\n",
    "\n",
    " This Section is not required to complete but acts as an additional excersise for understaning the output of a neural network's weights. While neural networks can be a great learning device they are often referred to as a black box. We can understand what the weights of a neural network look like better by plotting their feature maps. After successfully training your neural network you can see what it's feature maps look like by plotting the output of the network's weight layers in response to a test stimuli image. From these plotted feature maps, it's possible to see what characteristics of an image the network finds interesting. For a sign, maybe the inner network feature maps react with high activation to the sign's boundary outline or to the contrast in the sign's painted symbol.\n",
    "\n",
    " Provided for you below is the function code that allows you to get the visualization output of any tensorflow weight layer you want. The inputs to the function should be a stimuli image, one used during training or a new one you provided, and then the tensorflow variable name that represents the layer's state during the training process, for instance if you wanted to see what the [LeNet lab's](https://classroom.udacity.com/nanodegrees/nd013/parts/fbf77062-5703-404e-b60c-95b78b2f3f9e/modules/6df7ae49-c61c-4bb2-a23e-6527e69209ec/lessons/601ae704-1035-4287-8b11-e2c2716217ad/concepts/d4aca031-508f-4e0b-b493-e7b706120f81) feature maps looked like for it's second convolutional layer you could enter conv2 as the tf_activation variable.\n",
    "\n",
    "For an example of what feature map outputs look like, check out NVIDIA's results in their paper [End-to-End Deep Learning for Self-Driving Cars](https://devblogs.nvidia.com/parallelforall/deep-learning-self-driving-cars/) in the section Visualization of internal CNN State. NVIDIA was able to show that their network's inner weights had high activations to road boundary lines by comparing feature maps from an image with a clear path to one without. Try experimenting with a similar test to show that your trained network's weights are looking for interesting features, whether it's looking at differences in feature maps from images with or without a sign, or even what feature maps look like in a trained network vs a completely untrained one on the same sign image.\n",
    "\n",
    "<figure>\n",
    " <img src=\"visualize_cnn.png\" width=\"380\" alt=\"Combined Image\" />\n",
    " <figcaption>\n",
    " <p></p> \n",
    " <p style=\"text-align: center;\"> Your output should look something like this (above)</p> \n",
    " </figcaption>\n",
    "</figure>\n",
    " <p></p> \n"
   ]
  },
  {
   "cell_type": "code",
   "execution_count": null,
   "metadata": {
    "collapsed": true
   },
   "outputs": [],
   "source": [
    "### Visualize your network's feature maps here.\n",
    "### Feel free to use as many code cells as needed.\n",
    "\n",
    "# image_input: the test image being fed into the network to produce the feature maps\n",
    "# tf_activation: should be a tf variable name used during your training procedure that represents the calculated state of a specific weight layer\n",
    "# activation_min/max: can be used to view the activation contrast in more detail, by default matplot sets min and max to the actual min and max values of the output\n",
    "# plt_num: used to plot out multiple different weight feature map sets on the same block, just extend the plt number for each new feature map entry\n",
    "\n",
    "def outputFeatureMap(image_input, tf_activation, activation_min=-1, activation_max=-1 ,plt_num=1):\n",
    "    # Here make sure to preprocess your image_input in a way your network expects\n",
    "    # with size, normalization, ect if needed\n",
    "    # image_input =\n",
    "    # Note: x should be the same name as your network's tensorflow data placeholder variable\n",
    "    # If you get an error tf_activation is not defined it may be having trouble accessing the variable from inside a function\n",
    "    activation = tf_activation.eval(session=sess,feed_dict={x : image_input})\n",
    "    featuremaps = activation.shape[3]\n",
    "    plt.figure(plt_num, figsize=(15,15))\n",
    "    for featuremap in range(featuremaps):\n",
    "        plt.subplot(6,8, featuremap+1) # sets the number of feature maps to show on each row and column\n",
    "        plt.title('FeatureMap ' + str(featuremap)) # displays the feature map number\n",
    "        if activation_min != -1 & activation_max != -1:\n",
    "            plt.imshow(activation[0,:,:, featuremap], interpolation=\"nearest\", vmin =activation_min, vmax=activation_max, cmap=\"gray\")\n",
    "        elif activation_max != -1:\n",
    "            plt.imshow(activation[0,:,:, featuremap], interpolation=\"nearest\", vmax=activation_max, cmap=\"gray\")\n",
    "        elif activation_min !=-1:\n",
    "            plt.imshow(activation[0,:,:, featuremap], interpolation=\"nearest\", vmin=activation_min, cmap=\"gray\")\n",
    "        else:\n",
    "            plt.imshow(activation[0,:,:, featuremap], interpolation=\"nearest\", cmap=\"gray\")"
   ]
  }
 ],
 "metadata": {
  "anaconda-cloud": {},
  "kernelspec": {
   "display_name": "Python 3",
   "language": "python",
   "name": "python3"
  },
  "language_info": {
   "codemirror_mode": {
    "name": "ipython",
    "version": 3
   },
   "file_extension": ".py",
   "mimetype": "text/x-python",
   "name": "python",
   "nbconvert_exporter": "python",
   "pygments_lexer": "ipython3",
   "version": "3.5.2"
  },
  "widgets": {
   "state": {},
   "version": "1.1.2"
  }
 },
 "nbformat": 4,
 "nbformat_minor": 1
}
